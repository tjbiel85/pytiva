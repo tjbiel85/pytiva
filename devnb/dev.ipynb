{
 "cells": [
  {
   "cell_type": "markdown",
   "metadata": {
    "id": "25c2W1FW3Un-"
   },
   "source": [
    "## TODO\n",
    "* Features:\n",
    "    * Easy visualization of: case starts, concurrent case obligations\n",
    "    * printouts/reports of parameters used to generate analyses\n",
    "    * utils: determine if an event falls in an arbitrary time window; aggregate to show a weekly incidence (across days of week), vs 52 weeks/yr, 12 months/year; expected formats for activity events \n",
    "    * some clinical questions to be answered: mishaps during nights and wkends vs weekdays, per provider, or likelihood when activity (anesthesia demand) is high\n",
    "\n",
    "## Next\n",
    "* helper function(s) to crank through cases, events, meds, and staffing, and create a collection of AnesthesiaCase objects with associated events and meds"
   ]
  },
  {
   "cell_type": "code",
   "execution_count": 1,
   "metadata": {
    "id": "Nj1NA6_qYYdt"
   },
   "outputs": [],
   "source": [
    "import sys\n",
    "sys.path.append(\"/home/tj/PycharmProjects/pytiva\")\n",
    "\n",
    "import os\n",
    "import pandas as pd\n",
    "import numpy as np\n",
    "import seaborn as sn\n",
    "import matplotlib.pyplot as plt\n",
    "from tqdm import tqdm\n",
    "\n",
    "import pytiva"
   ]
  },
  {
   "cell_type": "code",
   "execution_count": null,
   "metadata": {
    "id": "Nj1NA6_qYYdt"
   },
   "outputs": [],
   "source": [
    "wd = r'/home/tj/PycharmProjects/pytiva/tests/test_data'\n",
    "filename = 'OBCapacity_Output_20221116.xlsx'\n",
    "\n",
    "#pytiva.anesthesia.AnesthesiaCaseEventsDataSet(pd.read_csv(os.path.join(wd, 'event_test_data.csv')))\n",
    "\n",
    "df_meds = pd.read_excel(os.path.join(wd, filename), sheet_name='Events')\n",
    "#df_events.rename(columns=col_map, inplace=True)\n",
    "#event_ds = pytiva.anesthesia.AnesthesiaCaseEventsDataSet(df_events)\n",
    "event_ds"
   ]
  },
  {
   "cell_type": "code",
   "execution_count": null,
   "metadata": {},
   "outputs": [],
   "source": [
    "ds = event_ds.activity_ds_from_start_and_end_events(**NEURAXIAL_EVENT_PARAMS)"
   ]
  },
  {
   "cell_type": "code",
   "execution_count": null,
   "metadata": {},
   "outputs": [],
   "source": [
    "_dose_units = [\n",
    "        'g',\n",
    "        'grams',\n",
    "        'mg',\n",
    "        'milligrams',\n",
    "        'mcg',\n",
    "        'micrograms',\n",
    "        'ml',\n",
    "        'milliliters',\n",
    "        'l',\n",
    "        'liters',\n",
    "        'u',\n",
    "        'units',\n",
    "        'mu',\n",
    "        'milliunits'\n",
    "    ]\n",
    "_dose_infusion_times = []"
   ]
  },
  {
   "cell_type": "code",
   "execution_count": null,
   "metadata": {},
   "outputs": [],
   "source": [
    "ds.to_csv(os.path.join(wd, 'neuraxial_labor_activity_dataset_test.csv'), index=False)"
   ]
  },
  {
   "cell_type": "code",
   "execution_count": null,
   "metadata": {},
   "outputs": [],
   "source": [
    "read_in = pd.read_csv(os.path.join(wd, 'neuraxial_labor_activity_dataset_test.csv'))\n",
    "all(ads._df == pytiva.ActivityDataSet(read_in)._df)"
   ]
  },
  {
   "cell_type": "code",
   "execution_count": null,
   "metadata": {},
   "outputs": [],
   "source": [
    "ads['duration'].describe().to_dict()"
   ]
  },
  {
   "cell_type": "code",
   "execution_count": null,
   "metadata": {},
   "outputs": [],
   "source": [
    "ads"
   ]
  },
  {
   "cell_type": "code",
   "execution_count": null,
   "metadata": {},
   "outputs": [],
   "source": [
    "## TODO: obfuscate and set aside med test data\n",
    "## TODO: verboten columns"
   ]
  }
 ],
 "metadata": {
  "colab": {
   "collapsed_sections": [],
   "provenance": []
  },
  "kernelspec": {
   "display_name": "pytiva",
   "language": "python",
   "name": "pytiva"
  },
  "language_info": {
   "codemirror_mode": {
    "name": "ipython",
    "version": 3
   },
   "file_extension": ".py",
   "mimetype": "text/x-python",
   "name": "python",
   "nbconvert_exporter": "python",
   "pygments_lexer": "ipython3",
   "version": "3.10.4"
  }
 },
 "nbformat": 4,
 "nbformat_minor": 1
}
