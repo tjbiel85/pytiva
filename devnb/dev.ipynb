{
 "cells": [
  {
   "cell_type": "markdown",
   "source": [
    "## TODO\n",
    "* Features:\n",
    "    * Easy visualization of: case starts, concurrent case obligations\n",
    "    * printouts/reports of parameters used to generate analyses\n",
    "    * utils: determine if an event falls in an arbitrary time window; aggregate to show a weekly incidence (across days of week), vs 52 weeks/yr, 12 months/year; expected formats for activity events \n",
    "    * some clinical questions to be answered: mishaps during nights and wkends vs weekdays, per provider, or likelihood when activity (anesthesia demand) is high, blocks of time with dearth of activity for didactics\n",
    "    * start and end event priorities for defining an activity instance-->needs to eventually create a timeseries (long format) and use these as start and end\n",
    "    \n",
    "## Next\n",
    "* should there be a ConcurrencyTimeSeries object to extend Series and tack on some common functionality?"
   ],
   "metadata": {
    "collapsed": false,
    "pycharm": {
     "name": "#%% md\n"
    }
   }
  },
  {
   "cell_type": "code",
   "execution_count": null,
   "outputs": [],
   "source": [
    "import sys\n",
    "import os\n",
    "import pandas as pd\n",
    "import numpy as np\n",
    "import seaborn as sn\n",
    "import matplotlib.pyplot as plt\n",
    "from tqdm import tqdm\n",
    "\n",
    "sys.path.append(\"/home/tj/PycharmProjects/pytiva\")\n",
    "import pytiva\n",
    "\n",
    "sys.path.append(\"/home/tj/PycharmProjects/pytiva/tests\")\n",
    "from tests import testconfig\n",
    "\n",
    "def generate_testdata_study():\n",
    "    testdata_csv_dict = {\n",
    "        'ds_cases': { 'FILEPATH': os.path.join(testdata_wd, testconfig.TESTDATA['DS_CASES']) },\n",
    "        'ds_case_meds': { 'FILEPATH': os.path.join(testdata_wd, testconfig.TESTDATA['DS_CASE_MEDS']) },\n",
    "        'ds_case_events': { 'FILEPATH': os.path.join(testdata_wd, testconfig.TESTDATA['DS_CASE_EVENTS']) }\n",
    "    }\n",
    "    datasets = pytiva.anesthesia.datasets_from_csv_data(testdata_csv_dict)\n",
    "    study = pytiva.anesthesia.AnesthesiaStudy(**datasets)\n",
    "    return study"
   ],
   "metadata": {
    "collapsed": false,
    "pycharm": {
     "name": "#%%\n"
    }
   }
  },
  {
   "cell_type": "code",
   "execution_count": null,
   "outputs": [],
   "source": [
    "study = generate_testdata_study()\n",
    "study"
   ],
   "metadata": {
    "collapsed": false,
    "pycharm": {
     "name": "#%%\n"
    }
   }
  }
 ],
 "metadata": {
  "colab": {
   "collapsed_sections": [],
   "provenance": []
  },
  "kernelspec": {
   "display_name": "pytiva",
   "language": "python",
   "name": "pytiva"
  },
  "language_info": {
   "codemirror_mode": {
    "name": "ipython",
    "version": 3
   },
   "file_extension": ".py",
   "mimetype": "text/x-python",
   "name": "python",
   "nbconvert_exporter": "python",
   "pygments_lexer": "ipython3",
   "version": "3.10.4"
  }
 },
 "nbformat": 4,
 "nbformat_minor": 1
}