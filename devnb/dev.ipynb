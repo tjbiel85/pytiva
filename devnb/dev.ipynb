{
 "cells": [
  {
   "cell_type": "markdown",
   "metadata": {
    "id": "25c2W1FW3Un-",
    "pycharm": {
     "name": "#%% md\n"
    }
   },
   "source": [
    "## TODO\n",
    "* Features:\n",
    "    * Easy visualization of: case starts, concurrent case obligations\n",
    "    * printouts/reports of parameters used to generate analyses\n",
    "    * utils: determine if an event falls in an arbitrary time window; aggregate to show a weekly incidence (across days of week), vs 52 weeks/yr, 12 months/year; expected formats for activity events \n",
    "    * some clinical questions to be answered: mishaps during nights and wkends vs weekdays, per provider, or likelihood when activity (anesthesia demand) is high, blocks of time with dearth of activity for didactics\n",
    "    * start and end event priorities for defining an activity instance-->needs to eventually create a timeseries (long format) and use these as start and end\n",
    "    \n",
    "## Next\n",
    "* should there be a ConcurrencyTimeSeries object to extend Series and tack on some common functionality?\n",
    "* AnesthesiaResourceAssignmentDataSet\n",
    "    * Would process in long format \"schedule\" data \n",
    "    * Would use ProviderShift objects to interpret and translate its entries into capacity figures"
   ]
  },
  {
   "cell_type": "code",
   "execution_count": 1,
   "metadata": {
    "id": "Nj1NA6_qYYdt",
    "pycharm": {
     "name": "#%%\n"
    }
   },
   "outputs": [
    {
     "data": {
      "text/plain": [
       "### AnesthesiaStudy object ###\n",
       "* Case data *\n",
       "ds_cases['anesthesia_start'] range: 2021-10-02 07:02:20 to 2021-12-30 15:45:37\n",
       "ds_cases (462 rows)\n",
       "ds_case_events (8301 rows)\n",
       "ds_case_meds (4033 rows)\n",
       "\n",
       "* Activity data *\n",
       "ds_activity: \"medication\" (4033 entries), \"activity A\" (404 entries), \"activity B\" (173 entries)\n",
       "activity    activity_start\n",
       "activity A  2021-10-31         129\n",
       "            2021-11-30         147\n",
       "            2021-12-31         128\n",
       "activity B  2021-10-31          59\n",
       "            2021-11-30          52\n",
       "            2021-12-31          62\n",
       "medication  2021-10-31        1352\n",
       "            2021-11-30        1360\n",
       "            2021-12-31        1321"
      ]
     },
     "execution_count": 1,
     "metadata": {},
     "output_type": "execute_result"
    }
   ],
   "source": [
    "import json\n",
    "import sys\n",
    "import os\n",
    "import pandas as pd\n",
    "import seaborn as sn\n",
    "import matplotlib.pyplot as plt\n",
    "\n",
    "sys.path.append(\"/home/tj/PycharmProjects/pytiva\")\n",
    "import pytiva\n",
    "\n",
    "tests_wd = \"/home/tj/PycharmProjects/pytiva/tests\"\n",
    "sys.path.append(tests_wd)\n",
    "from tests import testconfig\n",
    "data_wd = os.path.join(tests_wd, testconfig.WD)\n",
    "\n",
    "PARAMS = {\n",
    "    'DATE_START': pd.to_datetime('2021-10-01'),\n",
    "    'DATE_END': pd.to_datetime('2021-12-31'),\n",
    "    'FREQ': 'T'\n",
    "}\n",
    "\n",
    "def generate_testdata_study():\n",
    "    testdata_csv_dict = {\n",
    "        'ds_cases': { 'FILEPATH': os.path.join(data_wd, testconfig.TESTDATA['DS_CASES']) },\n",
    "        'ds_case_meds': { 'FILEPATH': os.path.join(data_wd, testconfig.TESTDATA['DS_CASE_MEDS']) },\n",
    "        'ds_case_events': { 'FILEPATH': os.path.join(data_wd, testconfig.TESTDATA['DS_CASE_EVENTS']) }\n",
    "    }\n",
    "    datasets = pytiva.anesthesia.datasets_from_csv_data(testdata_csv_dict)\n",
    "    study = pytiva.anesthesia.AnesthesiaStudy(**datasets)\n",
    "    \n",
    "    # activities\n",
    "    h = open(os.path.join(tests_wd, testconfig.WD, testconfig.TESTDATA['EVENT_BASED_ACTIVITY_DEFINITIONS']), \"r\")\n",
    "    ea_definitions = json.load(h)\n",
    "    h.close()\n",
    "    \n",
    "    study.ds_activity = pytiva.ActivityDataSet(\n",
    "        pd.concat([\n",
    "            pytiva.anesthesia.EventActivityDefinition(**d).apply_to_ds(study.ds_case_events)\n",
    "            for d in ea_definitions\n",
    "        ] + [study.ds_case_meds.to_activity_dataset(pd.to_timedelta(2, unit='T'), pd.to_timedelta(3, unit='T'))._df]\n",
    "        ).reset_index(drop=True)\n",
    "    )\n",
    "    return study\n",
    "\n",
    "study = generate_testdata_study()\n",
    "study.limit_by_dates(dt_start = testconfig.TESTDATA_STUDY_DATES[0], dt_end = testconfig.TESTDATA_STUDY_DATES[1])\n",
    "study #maybe make the propagation stuff only apply to members starting with \"ds_case_\""
   ]
  },
  {
   "cell_type": "code",
   "execution_count": 2,
   "metadata": {},
   "outputs": [],
   "source": [
    "# TODO: ponder, ye\n",
    "# should there be a way to use the unduplication functionality to generate capacity from ads_resources?\n",
    "# or is that a distinct mathematical operation?\n",
    "# I think it's distinct, cause otherwise I'd need to apply capacity as a weight of sorts\n",
    "# so still need to generate a timeseries index with the desired resolution, start, and end points\n",
    "# and then for each entry in that index, calculate the capacity"
   ]
  },
  {
   "cell_type": "code",
   "execution_count": 3,
   "metadata": {},
   "outputs": [
    {
     "data": {
      "text/html": [
       "<div>\n",
       "<style scoped>\n",
       "    .dataframe tbody tr th:only-of-type {\n",
       "        vertical-align: middle;\n",
       "    }\n",
       "\n",
       "    .dataframe tbody tr th {\n",
       "        vertical-align: top;\n",
       "    }\n",
       "\n",
       "    .dataframe thead th {\n",
       "        text-align: right;\n",
       "    }\n",
       "</style>\n",
       "<table border=\"1\" class=\"dataframe\">\n",
       "  <thead>\n",
       "    <tr style=\"text-align: right;\">\n",
       "      <th></th>\n",
       "      <th>capacity</th>\n",
       "    </tr>\n",
       "    <tr>\n",
       "      <th>ts_index</th>\n",
       "      <th></th>\n",
       "    </tr>\n",
       "  </thead>\n",
       "  <tbody>\n",
       "    <tr>\n",
       "      <th>2021-07-09 07:00:00</th>\n",
       "      <td>1.0</td>\n",
       "    </tr>\n",
       "    <tr>\n",
       "      <th>2021-07-09 07:01:00</th>\n",
       "      <td>1.0</td>\n",
       "    </tr>\n",
       "    <tr>\n",
       "      <th>2021-07-09 07:02:00</th>\n",
       "      <td>1.0</td>\n",
       "    </tr>\n",
       "    <tr>\n",
       "      <th>2021-07-09 07:03:00</th>\n",
       "      <td>1.0</td>\n",
       "    </tr>\n",
       "    <tr>\n",
       "      <th>2021-07-09 07:04:00</th>\n",
       "      <td>1.0</td>\n",
       "    </tr>\n",
       "    <tr>\n",
       "      <th>...</th>\n",
       "      <td>...</td>\n",
       "    </tr>\n",
       "    <tr>\n",
       "      <th>2022-03-07 14:55:00</th>\n",
       "      <td>1.0</td>\n",
       "    </tr>\n",
       "    <tr>\n",
       "      <th>2022-03-07 14:56:00</th>\n",
       "      <td>1.0</td>\n",
       "    </tr>\n",
       "    <tr>\n",
       "      <th>2022-03-07 14:57:00</th>\n",
       "      <td>1.0</td>\n",
       "    </tr>\n",
       "    <tr>\n",
       "      <th>2022-03-07 14:58:00</th>\n",
       "      <td>1.0</td>\n",
       "    </tr>\n",
       "    <tr>\n",
       "      <th>2022-03-07 14:59:00</th>\n",
       "      <td>1.0</td>\n",
       "    </tr>\n",
       "  </tbody>\n",
       "</table>\n",
       "<p>347520 rows × 1 columns</p>\n",
       "</div>"
      ],
      "text/plain": [
       "<pytiva.dataset.TimeSeriesDataSet.TimeSeriesDataSet at 0x7fb5cfffe530>"
      ]
     },
     "execution_count": 3,
     "metadata": {},
     "output_type": "execute_result"
    }
   ],
   "source": [
    "# TODO: unittest for generating capacity without params\n",
    "# TODO: unittest for generating capacity with start and end params\n",
    "# TODO: unittest for generating capacity with frequency param\n",
    "# TODO: unittest for generating capacity with start, end, and frequency params\n",
    "ds_resources = pytiva.staffing.ResourceAssignmentDataSet(\n",
    "    pd.read_csv(os.path.join(tests_wd, testconfig.WD, testconfig.TESTDATA['STAFFING_LONG']))\n",
    ")\n",
    "ps_dict = pytiva.staffing.utils.provider_shift_defs_to_kv_dict(testconfig.STAFF_SHIFT_DEFINITIONS)\n",
    "ds_resources.limit_by_list('assignment', ps_dict.keys())\n",
    "#ds_resources.limit_by_list('date', pd.date_range(start=PARAMS['DATE_START'], end=PARAMS['DATE_END'], freq='D'))\n",
    "tsds_capacity = ds_resources.generate_capacity_tsds(ps_dict,\n",
    "                                                    #start_dt=PARAMS['DATE_START'],\n",
    "                                                    #end_dt=PARAMS['DATE_END'],\n",
    "                                                    #freq=PARAMS['FREQ']\n",
    "                                                   )\n",
    "tsds_wo_path = os.path.join(tests_wd, testconfig.WD, 'testdata-ds_resources_to_tsds_capacity.csv')\n",
    "tsds_capacity.to_csv(tsds_wo_path)#, index_label='ts_index')\n",
    "tsds_capacity"
   ]
  },
  {
   "cell_type": "code",
   "execution_count": 4,
   "metadata": {},
   "outputs": [
    {
     "data": {
      "text/html": [
       "<div>\n",
       "<style scoped>\n",
       "    .dataframe tbody tr th:only-of-type {\n",
       "        vertical-align: middle;\n",
       "    }\n",
       "\n",
       "    .dataframe tbody tr th {\n",
       "        vertical-align: top;\n",
       "    }\n",
       "\n",
       "    .dataframe thead th {\n",
       "        text-align: right;\n",
       "    }\n",
       "</style>\n",
       "<table border=\"1\" class=\"dataframe\">\n",
       "  <thead>\n",
       "    <tr style=\"text-align: right;\">\n",
       "      <th></th>\n",
       "      <th>capacity</th>\n",
       "    </tr>\n",
       "    <tr>\n",
       "      <th>ts_index</th>\n",
       "      <th></th>\n",
       "    </tr>\n",
       "  </thead>\n",
       "  <tbody>\n",
       "    <tr>\n",
       "      <th>2021-07-09 07:00:00</th>\n",
       "      <td>1.0</td>\n",
       "    </tr>\n",
       "    <tr>\n",
       "      <th>2021-07-09 07:01:00</th>\n",
       "      <td>1.0</td>\n",
       "    </tr>\n",
       "    <tr>\n",
       "      <th>2021-07-09 07:02:00</th>\n",
       "      <td>1.0</td>\n",
       "    </tr>\n",
       "    <tr>\n",
       "      <th>2021-07-09 07:03:00</th>\n",
       "      <td>1.0</td>\n",
       "    </tr>\n",
       "    <tr>\n",
       "      <th>2021-07-09 07:04:00</th>\n",
       "      <td>1.0</td>\n",
       "    </tr>\n",
       "    <tr>\n",
       "      <th>...</th>\n",
       "      <td>...</td>\n",
       "    </tr>\n",
       "    <tr>\n",
       "      <th>2022-03-07 14:55:00</th>\n",
       "      <td>1.0</td>\n",
       "    </tr>\n",
       "    <tr>\n",
       "      <th>2022-03-07 14:56:00</th>\n",
       "      <td>1.0</td>\n",
       "    </tr>\n",
       "    <tr>\n",
       "      <th>2022-03-07 14:57:00</th>\n",
       "      <td>1.0</td>\n",
       "    </tr>\n",
       "    <tr>\n",
       "      <th>2022-03-07 14:58:00</th>\n",
       "      <td>1.0</td>\n",
       "    </tr>\n",
       "    <tr>\n",
       "      <th>2022-03-07 14:59:00</th>\n",
       "      <td>1.0</td>\n",
       "    </tr>\n",
       "  </tbody>\n",
       "</table>\n",
       "<p>347520 rows × 1 columns</p>\n",
       "</div>"
      ],
      "text/plain": [
       "                     capacity\n",
       "ts_index                     \n",
       "2021-07-09 07:00:00       1.0\n",
       "2021-07-09 07:01:00       1.0\n",
       "2021-07-09 07:02:00       1.0\n",
       "2021-07-09 07:03:00       1.0\n",
       "2021-07-09 07:04:00       1.0\n",
       "...                       ...\n",
       "2022-03-07 14:55:00       1.0\n",
       "2022-03-07 14:56:00       1.0\n",
       "2022-03-07 14:57:00       1.0\n",
       "2022-03-07 14:58:00       1.0\n",
       "2022-03-07 14:59:00       1.0\n",
       "\n",
       "[347520 rows x 1 columns]"
      ]
     },
     "execution_count": 4,
     "metadata": {},
     "output_type": "execute_result"
    }
   ],
   "source": [
    "df_tsds = pd.read_csv(tsds_wo_path)\n",
    "df_tsds.set_index('ts_index')"
   ]
  },
  {
   "cell_type": "code",
   "execution_count": 7,
   "metadata": {},
   "outputs": [
    {
     "data": {
      "text/plain": [
       "Index(['ts_index', 'capacity'], dtype='object')"
      ]
     },
     "execution_count": 7,
     "metadata": {},
     "output_type": "execute_result"
    }
   ],
   "source": [
    "df_tsds.columns"
   ]
  },
  {
   "cell_type": "code",
   "execution_count": null,
   "metadata": {},
   "outputs": [],
   "source": [
    "label = 'capacity'\n",
    "cc_activity_wa = pytiva.activity.utils.concurrent_weekly_activity(tsds_capacity, label=label)\n",
    "graph = sn.heatmap(cc_activity_wa, robust=True,\n",
    "                  cbar_kws={\n",
    "                      'label': label\n",
    "                      #'ticks': [0.0, 0.5, 1.0, 1.5, 2.0, 2.5]\n",
    "                           })\n",
    "plt.ylabel('Minute of day')\n",
    "sn.set(rc={'figure.figsize':(11.7,8.27)})\n",
    "plt.show()"
   ]
  }
 ],
 "metadata": {
  "colab": {
   "collapsed_sections": [],
   "provenance": []
  },
  "kernelspec": {
   "display_name": "pytiva",
   "language": "python",
   "name": "pytiva"
  },
  "language_info": {
   "codemirror_mode": {
    "name": "ipython",
    "version": 3
   },
   "file_extension": ".py",
   "mimetype": "text/x-python",
   "name": "python",
   "nbconvert_exporter": "python",
   "pygments_lexer": "ipython3",
   "version": "3.10.4"
  }
 },
 "nbformat": 4,
 "nbformat_minor": 1
}
