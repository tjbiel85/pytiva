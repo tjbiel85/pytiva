{
 "cells": [
  {
   "cell_type": "markdown",
   "source": [
    "## TODO\n",
    "* Features:\n",
    "    * Easy visualization of: case starts, concurrent case obligations\n",
    "    * printouts/reports of parameters used to generate analyses\n",
    "    * utils: determine if an event falls in an arbitrary time window; aggregate to show a weekly incidence (across days of week), vs 52 weeks/yr, 12 months/year; expected formats for activity events \n",
    "    * some clinical questions to be answered: mishaps during nights and wkends vs weekdays, per provider, or likelihood when activity (anesthesia demand) is high\n",
    "    * start and end event priorities for defining an activity instance-->needs to eventually create a timeseries (long format) and use these as start and end\n",
    "    \n",
    "## Next\n",
    "* can I re-implement the \"reset study\" thing?\n",
    "* multi-threading?\n",
    "* test cases\n",
    "    * EventActivityDefinition\n",
    "        * general instantiation\n",
    "        * generating ActivityDataSet\n",
    "        * offsets\n",
    "    * ActivityDataSet\n",
    "        * (re-)generate duration\n",
    "        * enforce maximum duration\n",
    "* should there be a ConcurrencyTimeSeries object to extend Series and tack on some common functionality?"
   ],
   "metadata": {
    "collapsed": false,
    "pycharm": {
     "name": "#%% md\n"
    }
   }
  },
  {
   "cell_type": "code",
   "execution_count": null,
   "outputs": [],
   "source": [
    "import sys\n",
    "sys.path.append(\"/home/tj/PycharmProjects/pytiva\")\n",
    "\n",
    "import os\n",
    "import pandas as pd\n",
    "import numpy as np\n",
    "import seaborn as sn\n",
    "import matplotlib.pyplot as plt\n",
    "from tqdm import tqdm\n",
    "\n",
    "import pytiva"
   ],
   "metadata": {
    "collapsed": false,
    "pycharm": {
     "name": "#%%\n"
    }
   }
  },
  {
   "cell_type": "code",
   "execution_count": null,
   "outputs": [],
   "source": [
    "# keep this\n",
    "wd = r'/home/tj/PycharmProjects/pytiva/tests/test_data'\n",
    "\n",
    "csv_dict = {\n",
    "    'ds_cases': {\n",
    "        'FILEPATH': os.path.join(wd, 'anesthesia_case_test_data.csv'),\n",
    "    },\n",
    "\n",
    "    'ds_case_meds': {\n",
    "        'FILEPATH': os.path.join(wd, 'med_test_data.csv'),\n",
    "    },\n",
    "    'ds_case_events': {\n",
    "        'FILEPATH': os.path.join(wd, 'event_test_data.csv'),\n",
    "    }\n",
    "}\n",
    "\n",
    "ANESSTART_DATES = ('2021-10-01', '2021-12-31')\n",
    "LST_PROCEDURES = ['LABOR EPIDURAL/ANALGESIA', 'CESAREAN SECTION PRIMARY 1919']\n",
    "\n",
    "STUDY_CONFIG = {\n",
    "    'CASE_LIMITS': {\n",
    "        'ANESTHESIA_START_RANGE': ANESSTART_DATES,\n",
    "        'PROCEDURES': LST_PROCEDURES\n",
    "    }\n",
    "}"
   ],
   "metadata": {
    "collapsed": false,
    "pycharm": {
     "name": "#%%\n"
    }
   }
  },
  {
   "cell_type": "code",
   "execution_count": null,
   "outputs": [],
   "source": [
    "datasets = pytiva.anesthesia.datasets_from_csv_data(csv_dict)\n",
    "study = pytiva.anesthesia.AnesthesiaStudy(**datasets)\n",
    "study._member_ds_and_counts"
   ],
   "metadata": {
    "collapsed": false,
    "pycharm": {
     "name": "#%%\n"
    }
   }
  },
  {
   "cell_type": "code",
   "execution_count": null,
   "outputs": [],
   "source": [
    "datasets = pytiva.anesthesia.datasets_from_csv_data(csv_dict)\n",
    "study = pytiva.anesthesia.AnesthesiaStudy(**datasets)\n",
    "study.limit_by_dates(*ANESSTART_DATES)\n",
    "study._member_ds_and_counts"
   ],
   "metadata": {
    "collapsed": false,
    "pycharm": {
     "name": "#%%\n"
    }
   }
  },
  {
   "cell_type": "code",
   "execution_count": null,
   "outputs": [],
   "source": [
    "datasets = pytiva.anesthesia.datasets_from_csv_data(csv_dict)\n",
    "study = pytiva.anesthesia.AnesthesiaStudy(**datasets)\n",
    "study.limit_by_list('procedure', LST_PROCEDURES)\n",
    "study._member_ds_and_counts"
   ],
   "metadata": {
    "collapsed": false,
    "pycharm": {
     "name": "#%%\n"
    }
   }
  },
  {
   "cell_type": "code",
   "execution_count": null,
   "outputs": [],
   "source": [
    "datasets = pytiva.anesthesia.datasets_from_csv_data(csv_dict)\n",
    "study = pytiva.anesthesia.AnesthesiaStudy(**datasets)\n",
    "study.process_study_config(STUDY_CONFIG)\n",
    "study._member_ds_and_counts"
   ],
   "metadata": {
    "collapsed": false,
    "pycharm": {
     "name": "#%%\n"
    }
   }
  },
  {
   "cell_type": "code",
   "execution_count": null,
   "outputs": [],
   "source": [],
   "metadata": {
    "collapsed": false,
    "pycharm": {
     "name": "#%%\n"
    }
   }
  },
  {
   "cell_type": "code",
   "execution_count": 23,
   "metadata": {},
   "outputs": [
    {
     "data": {
      "text/plain": [
       "[('ds_cases', 2035), ('ds_case_events', 19296), ('ds_case_meds', 36118)]"
      ]
     },
     "execution_count": 23,
     "metadata": {},
     "output_type": "execute_result"
    }
   ],
   "source": [
    "datasets = pytiva.anesthesia.datasets_from_csv_data(csv_dict)\n",
    "study = pytiva.anesthesia.AnesthesiaStudy(**datasets)\n",
    "study._member_ds_and_counts"
   ]
  },
  {
   "cell_type": "code",
   "execution_count": 19,
   "metadata": {},
   "outputs": [
    {
     "data": {
      "text/plain": [
       "[('ds_cases', 245), ('ds_case_events', 0), ('ds_case_meds', 0)]"
      ]
     },
     "execution_count": 19,
     "metadata": {},
     "output_type": "execute_result"
    }
   ],
   "source": [
    "datasets = pytiva.anesthesia.datasets_from_csv_data(csv_dict)\n",
    "study = pytiva.anesthesia.AnesthesiaStudy(**datasets)\n",
    "study.limit_by_dates(*ANESSTART_DATES)\n",
    "study._member_ds_and_counts"
   ]
  },
  {
   "cell_type": "code",
   "execution_count": 21,
   "metadata": {},
   "outputs": [
    {
     "data": {
      "text/plain": [
       "[('ds_cases', 1580), ('ds_case_events', 0), ('ds_case_meds', 0)]"
      ]
     },
     "execution_count": 21,
     "metadata": {},
     "output_type": "execute_result"
    }
   ],
   "source": [
    "datasets = pytiva.anesthesia.datasets_from_csv_data(csv_dict)\n",
    "study = pytiva.anesthesia.AnesthesiaStudy(**datasets)\n",
    "study.limit_by_list('procedure', LST_PROCEDURES)\n",
    "study._member_ds_and_counts"
   ]
  },
  {
   "cell_type": "code",
   "execution_count": 24,
   "metadata": {},
   "outputs": [
    {
     "data": {
      "text/plain": [
       "[('ds_cases', 195), ('ds_case_events', 0), ('ds_case_meds', 0)]"
      ]
     },
     "execution_count": 24,
     "metadata": {},
     "output_type": "execute_result"
    }
   ],
   "source": [
    "datasets = pytiva.anesthesia.datasets_from_csv_data(csv_dict)\n",
    "study = pytiva.anesthesia.AnesthesiaStudy(**datasets)\n",
    "study.process_study_config(STUDY_CONFIG)\n",
    "study._member_ds_and_counts"
   ]
  },
  {
   "cell_type": "code",
   "execution_count": null,
   "metadata": {},
   "outputs": [],
   "source": []
  }
 ],
 "metadata": {
  "colab": {
   "collapsed_sections": [],
   "provenance": []
  },
  "kernelspec": {
   "display_name": "pytiva",
   "language": "python",
   "name": "pytiva"
  },
  "language_info": {
   "codemirror_mode": {
    "name": "ipython",
    "version": 3
   },
   "file_extension": ".py",
   "mimetype": "text/x-python",
   "name": "python",
   "nbconvert_exporter": "python",
   "pygments_lexer": "ipython3",
   "version": "3.10.4"
  }
 },
 "nbformat": 4,
 "nbformat_minor": 1
}