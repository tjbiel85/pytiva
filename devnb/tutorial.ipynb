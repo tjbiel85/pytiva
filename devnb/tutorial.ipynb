{
 "cells": [
  {
   "cell_type": "markdown",
   "metadata": {},
   "source": [
    "# pytiva Tiny Tutorial\n",
    "Last updated 5 February 2023"
   ]
  },
  {
   "cell_type": "code",
   "execution_count": 1,
   "metadata": {
    "id": "Nj1NA6_qYYdt"
   },
   "outputs": [],
   "source": [
    "import os\n",
    "import pandas as pd\n",
    "import seaborn as sn\n",
    "import matplotlib.pyplot as plt\n",
    "\n",
    "# these two lines will be unnecessary if pytiva is installed as a python package\n",
    "import sys\n",
    "sys.path.append(\"/home/tj/PycharmProjects/pytiva\")\n",
    "\n",
    "import pytiva\n",
    "\n",
    "# working directory\n",
    "wd = r'/home/tj/PycharmProjects/pytiva/data'"
   ]
  },
  {
   "cell_type": "markdown",
   "metadata": {},
   "source": [
    "### Extracting from an Excel file\n",
    "Data exports from electronic anesthesia records may be in a variety of file formats, but Microsoft Excel is a fairly common one.\n",
    "\n",
    "pytiva has utilities to extract these as a batch process and set them aside in comma-separated values formats."
   ]
  },
  {
   "cell_type": "code",
   "execution_count": null,
   "metadata": {},
   "outputs": [],
   "source": [
    "sheets = {\n",
    "    'cases': {\n",
    "        'SHEET_LABEL': 'Base',\n",
    "        'CSV_FILENAME': 'cases'\n",
    "    },\n",
    "    'events': {\n",
    "        'SHEET_LABEL': 'Events',\n",
    "        'CSV_FILENAME': 'case_events'\n",
    "    },\n",
    "    'medications': {\n",
    "        'SHEET_LABEL': 'Medications',\n",
    "        'CSV_FILENAME': 'case_medications'\n",
    "    }\n",
    "}\n",
    "\n",
    "filepaths_out = pytiva.utils.dump_csv_from_excel(\n",
    "    os.path.join(wd, 'OBCapacity_Output_20221130.xlsx'),\n",
    "    wd,\n",
    "    sheets,\n",
    "    csv_prefix='202302050900-')\n",
    "filepaths_out"
   ]
  },
  {
   "cell_type": "markdown",
   "metadata": {},
   "source": [
    "### Loading CSV files into a pytiva AnesthesiaStudy object\n",
    "An AnesthesiaStudy object holds multiple DataSet objects and has methods for interacting with them. Column names, which were left alone in the Excel-->CSV step, can be updated at this step, and extra columns can be trimmed out.\n",
    "\n",
    "(Each type of standardized anesthesia DataSet within pytiva expects particular columns in order to reliably produce functionality. For example, they all require a 'case_id' column, which is a unique identifier for the given admission in order to have the case data, medication data, and intra-operative event data all interact.)"
   ]
  },
  {
   "cell_type": "code",
   "execution_count": 2,
   "metadata": {},
   "outputs": [
    {
     "data": {
      "text/plain": [
       "## AnesthesiaStudy object ##\n",
       "ds_cases['anesthesia_start'] range: 2021-02-01 00:34:00 to 2022-11-01 21:23:00\n",
       "ds_cases (23448 rows)\n",
       "ds_case_events (406297 rows)\n",
       "ds_case_meds (229690 rows)"
      ]
     },
     "execution_count": 2,
     "metadata": {},
     "output_type": "execute_result"
    }
   ],
   "source": [
    "csv_dict = {\n",
    "    'ds_cases': {\n",
    "        'FILEPATH': os.path.join(wd, '202302050900-cases.csv'),\n",
    "        'COLUMN_MAP': {\n",
    "            'AN_52_ENC_CSN_ID': 'case_id',\n",
    "            'AN_START_DATETIME': 'anesthesia_start',\n",
    "            'AN_STOP_DATETIME': 'anesthesia_end',\n",
    "            'AN_PROC_NAME': 'procedure',\n",
    "            'DepartmentName': 'location'\n",
    "        },\n",
    "        'LIMIT_COLUMNS_BY_MAP': True\n",
    "    },\n",
    "\n",
    "    'ds_case_meds': {\n",
    "        'FILEPATH': os.path.join(wd, '202302050900-case_medications.csv'),\n",
    "        'COLUMN_MAP': {\n",
    "            'AN_52_ENC_CSN_ID': 'case_id',\n",
    "            'MED_DISPLAY_NAME': 'med_name',\n",
    "            'TAKEN_TIME': 'med_datetime',\n",
    "            'UNIT_NAME': 'med_unit',\n",
    "            'ROUTE_NAME': 'med_route',\n",
    "            'DOSAGE': 'med_amount'\n",
    "        },\n",
    "        'LIMIT_COLUMNS_BY_MAP': True\n",
    "    },\n",
    "    'ds_case_events': {\n",
    "        'FILEPATH': os.path.join(wd, '202302050900-case_events.csv'),\n",
    "        'COLUMN_MAP': {\n",
    "            'AN_52_ENC_CSN_ID': 'case_id',\n",
    "            'EVENT_NAME': 'event_label',\n",
    "            'EVENT_TIME': 'event_datetime'\n",
    "        },\n",
    "        'LIMIT_COLUMNS_BY_MAP': True\n",
    "    }\n",
    "}\n",
    "\n",
    "datasets = pytiva.anesthesia.datasets_from_csv_data(csv_dict)\n",
    "study = pytiva.anesthesia.AnesthesiaStudy(**datasets)\n",
    "study"
   ]
  },
  {
   "cell_type": "markdown",
   "metadata": {},
   "source": [
    "### Setting up study parameters\n",
    "An AnesthesiaStudy object has methods to limit the included cases by dates and procedures, as well as to generate anesthesia activity based on medication administration and intra-operative events. These can be called directly, or in a batch as a configuration dictionary."
   ]
  },
  {
   "cell_type": "code",
   "execution_count": 3,
   "metadata": {},
   "outputs": [
    {
     "data": {
      "text/plain": [
       "## AnesthesiaStudy object ##\n",
       "ds_cases['anesthesia_start'] range: 2021-10-01 03:25:00 to 2021-10-30 20:58:00\n",
       "ds_cases (448 rows)\n",
       "ds_case_events (6341 rows)\n",
       "ds_case_meds (2785 rows)\n",
       "ds_activity: \"medication\" (2785 entries), \"regional procedure\" (112 entries), \"operating room case\" (82 entries)"
      ]
     },
     "execution_count": 3,
     "metadata": {},
     "output_type": "execute_result"
    }
   ],
   "source": [
    "STUDY_CONFIG = {\n",
    "    'CASE_LIMITS': {\n",
    "        'ANESTHESIA_START_RANGE': ('2021-10-01', '2021-10-31'),\n",
    "        'PROCEDURES': [\n",
    "            'CESAREAN SECTION REPEAT (N/A Abdomen)',\n",
    "            'CS',\n",
    "            'C Section',\n",
    "            'CESAREAN SECTION PRIMARY 1919 (Bilateral )',\n",
    "            'CESAREAN SECTION PRIMARY 1919',\n",
    "            'CESAREAN SECTION REPEAT WITH BILATERAL TUBAL LIGATION (Bilateral )',\n",
    "            'Cesarean Delivery',\n",
    "            'CESAREAN SECTION UNDEFINED (N/A )',\n",
    "            'CESAREAN SECTION REPEAT',\n",
    "            'CESAREAN SECTION REPEAT (N/A )',\n",
    "            'REPEAT LOW TRANSVERSE CESAREAN SECTION (N/A )',\n",
    "            'BLOOD PATCH',\n",
    "            'CESAREAN SECTION REPEAT (Bilateral )',\n",
    "            'CESAREAN SECTION (N/A )',\n",
    "            'D&E (N/A Uterus)',\n",
    "            'REPEAT CESAREAN SECTION (N/A )',\n",
    "            'CERVICAL CERCLAGE 1917',\n",
    "            'CERVICAL CERCLAGE 1917 (N/A )',\n",
    "            'CESAREAN SECTION REPEAT. (N/A )',\n",
    "            'EXTERNAL CEPHALIC VERSION',\n",
    "            'TUBAL LIGATION/CLIP (WITH CESAREAN SECTION) 2959 (N/A )',\n",
    "            'CESAREAN SECTION PRIMARY 1919 (N/A )',\n",
    "            'CESAREAN SECTION PRIMARY 1919 (N/A Abdomen)',\n",
    "            'LABOR EPIDURAL/ANALGESIA',\n",
    "            'DILATATION AND CURETTAGE POST PARTUM (N/A )',\n",
    "            'REPAIR VAGINAL TEAR (N/A )',\n",
    "            'CESAREAN SECTION REPEAT LOW TRANSVERSE (N/A )',\n",
    "            'D&C under regional',\n",
    "            'ECV',\n",
    "            'INDUCTION',\n",
    "            'PPBTL'\n",
    "        ]\n",
    "    },\n",
    "    'ACTIVITIES': {\n",
    "        'MEDICATION_ACTIVITY_OFFSET_BEFORE': pd.to_timedelta(2, unit='minute'),\n",
    "        'MEDICATION_ACTIVITY_OFFSET_AFTER': pd.to_timedelta(2, unit='minute'),\n",
    "        'EVENT_ACTIVITY_DEFINITIONS': [\n",
    "            {\n",
    "                'LABEL': 'regional procedure',\n",
    "                'EVENT_START': 'Link Anesthesia Device',\n",
    "                'EVENT_END': 'Block dosed',\n",
    "                'MAX_DURATION_QUANTILE': 0.9,\n",
    "                'MAX_DURATION_FACTOR': 2\n",
    "            },\n",
    "            \n",
    "            {\n",
    "                'LABEL': 'operating room case',\n",
    "                'EVENT_START': 'Patient in Room',\n",
    "                'EVENT_END': 'Anesthesia Stop',\n",
    "                'MAX_DURATION_QUANTILE': 0.95,\n",
    "                'MAX_DURATION_FACTOR': 2\n",
    "            }\n",
    "        ]\n",
    "    }\n",
    "}\n",
    "\n",
    "study.process_study_config(STUDY_CONFIG)\n",
    "study"
   ]
  },
  {
   "cell_type": "markdown",
   "metadata": {},
   "source": [
    "### Concurrent activity and visualization\n",
    "AnesthesiaStudy objects also provide methods for unduplicating the anesthesia activity contained in the various DataSet objects. By default, these unduplicate at the level of a case_id, meaning they unduplicate the data such that the maximum activity per case id at one time is one. Effectively, each patient is reduced to at most one activity at each moment in time.\n",
    "\n",
    "The AnesthesiaStudy.unduplicate_concurrency() method exposes this functionality most simply. Under the hood, it first unduplicates and then determines concurrency (total unduplicated activity) for each moment in time. The strata used for unduplication can be overwritten by providing a different collection to strata (default strata=['case_id']), and the resolution of the concurrent activity can be set by passing a parseable string to resolution for creating a TimeDelta object (default resolution='1min')."
   ]
  },
  {
   "cell_type": "code",
   "execution_count": null,
   "metadata": {},
   "outputs": [],
   "source": [
    "cc_ts = study.unduplicate_concurrency(strata=['case_id'], resolution='15min')"
   ]
  },
  {
   "cell_type": "code",
   "execution_count": null,
   "metadata": {},
   "outputs": [],
   "source": [
    "#cc_activity = study.ds_activity.concurrency_ts(resolution='15min')\n",
    "cc_activity_wa = pytiva.activity.utils.concurrent_weekly_activity(cc_ts)\n",
    "graph = sn.heatmap(cc_activity_wa, robust=True,\n",
    "                  cbar_kws={\n",
    "                      'label': 'Concurrent activity',\n",
    "                      #'ticks': [0.0, 0.5, 1.0, 1.5, 2.0, 2.5]\n",
    "                           })\n",
    "plt.ylabel('Minute of day')\n",
    "sn.set(rc={'figure.figsize':(11.7,8.27)})\n",
    "plt.show()"
   ]
  },
  {
   "cell_type": "code",
   "execution_count": null,
   "metadata": {},
   "outputs": [],
   "source": []
  }
 ],
 "metadata": {
  "colab": {
   "collapsed_sections": [],
   "provenance": []
  },
  "kernelspec": {
   "display_name": "pytiva",
   "language": "python",
   "name": "pytiva"
  },
  "language_info": {
   "codemirror_mode": {
    "name": "ipython",
    "version": 3
   },
   "file_extension": ".py",
   "mimetype": "text/x-python",
   "name": "python",
   "nbconvert_exporter": "python",
   "pygments_lexer": "ipython3",
   "version": "3.10.4"
  }
 },
 "nbformat": 4,
 "nbformat_minor": 1
}
