{
 "cells": [
  {
   "cell_type": "markdown",
   "metadata": {},
   "source": [
    "# PyTIVA Tiny Tutorial\n",
    "Last updated 30 April 2023\n",
    "\n",
    "PyTIVA is Python Tools for Investigating and Visualizing Activity, built to parse and process anesthesia records and determine activity and staffing levels throughout a time period of interest."
   ]
  },
  {
   "cell_type": "code",
   "execution_count": 1,
   "metadata": {
    "id": "Nj1NA6_qYYdt"
   },
   "outputs": [],
   "source": [
    "import os\n",
    "import pandas as pd\n",
    "import seaborn as sn\n",
    "import matplotlib.pyplot as plt\n",
    "\n",
    "# these two lines will be unnecessary if pytiva is installed as a python package\n",
    "import sys\n",
    "sys.path.append(\"/home/tj/PycharmProjects/pytiva\")\n",
    "\n",
    "import pytiva"
   ]
  },
  {
   "cell_type": "markdown",
   "metadata": {},
   "source": [
    "### Extracting from an Excel file\n",
    "Data exports from electronic anesthesia records may be in a variety of file formats, but Microsoft Excel is a fairly common one.\n",
    "\n",
    "PyTIVA has utilities to extract these as a batch process and set them aside in comma-separated values formats."
   ]
  },
  {
   "cell_type": "code",
   "execution_count": 2,
   "metadata": {},
   "outputs": [
    {
     "data": {
      "text/plain": [
       "['/home/tj/PycharmProjects/pytiva/data/202302050900-cases.csv',\n",
       " '/home/tj/PycharmProjects/pytiva/data/202302050900-case_events.csv',\n",
       " '/home/tj/PycharmProjects/pytiva/data/202302050900-case_medications.csv']"
      ]
     },
     "execution_count": 2,
     "metadata": {},
     "output_type": "execute_result"
    }
   ],
   "source": [
    "# working directory\n",
    "wd = r'/home/tj/PycharmProjects/pytiva/data'\n",
    "\n",
    "sheets = {\n",
    "    'cases': {\n",
    "        'SHEET_LABEL': 'Base',\n",
    "        'CSV_FILENAME': 'cases'\n",
    "    },\n",
    "    'events': {\n",
    "        'SHEET_LABEL': 'Events',\n",
    "        'CSV_FILENAME': 'case_events'\n",
    "    },\n",
    "    'medications': {\n",
    "        'SHEET_LABEL': 'Medications',\n",
    "        'CSV_FILENAME': 'case_medications'\n",
    "    }\n",
    "}\n",
    "\n",
    "filepaths_out = pytiva.utils.dump_csv_from_excel(\n",
    "    os.path.join(wd, 'anesthesia_case_data_dump.xlsx'),\n",
    "    wd,\n",
    "    sheets,\n",
    "    csv_prefix='202302050900-')\n",
    "filepaths_out"
   ]
  },
  {
   "cell_type": "markdown",
   "metadata": {},
   "source": [
    "### Loading CSV files into a pytiva AnesthesiaStudy object\n",
    "An AnesthesiaStudy object holds multiple DataSet objects and has methods for interacting with them. Column names, which were left alone in the Excel-->CSV step, can be updated at this step, and extra columns can be trimmed out.\n",
    "\n",
    "(Each type of standardized anesthesia DataSet within pytiva expects particular columns in order to reliably produce functionality. For example, they all require a 'case_id' column, which is a unique identifier for the given admission in order to have the case data, medication data, and intra-operative event data all interact.)"
   ]
  },
  {
   "cell_type": "code",
   "execution_count": 3,
   "metadata": {},
   "outputs": [
    {
     "data": {
      "text/plain": [
       "### AnesthesiaStudy object ###\n",
       "* Case data *\n",
       "ds_cases['anesthesia_start'] range: 2021-09-22 20:14:30 to 2022-01-10 09:24:01\n",
       "ds_cases (500 rows)\n",
       "ds_case_events (8942 rows)\n",
       "ds_case_meds (4313 rows)"
      ]
     },
     "execution_count": 3,
     "metadata": {},
     "output_type": "execute_result"
    }
   ],
   "source": [
    "wd = r'/home/tj/PycharmProjects/pytiva/tests/test_data'\n",
    "\n",
    "csv_dict = {\n",
    "    'ds_cases': {\n",
    "        'FILEPATH': os.path.join(wd, 'testdata-ds_cases.csv')\n",
    "    },\n",
    "    'ds_case_meds': {\n",
    "        'FILEPATH': os.path.join(wd, 'testdata-ds_case_meds.csv')\n",
    "    },\n",
    "    'ds_case_events': {\n",
    "        'FILEPATH': os.path.join(wd, 'testdata-ds_case_events.csv')\n",
    "    }\n",
    "}\n",
    "\n",
    "datasets = pytiva.anesthesia.datasets_from_csv_data(csv_dict)\n",
    "study = pytiva.anesthesia.AnesthesiaStudy(**datasets)\n",
    "study"
   ]
  },
  {
   "cell_type": "markdown",
   "metadata": {},
   "source": [
    "### Setting up study parameters\n",
    "An AnesthesiaStudy object has methods to limit the included cases by dates and procedures, as well as to generate anesthesia activity based on medication administration and intra-operative events. These can be called directly, or in a batch as a configuration dictionary."
   ]
  },
  {
   "cell_type": "code",
   "execution_count": 4,
   "metadata": {},
   "outputs": [
    {
     "data": {
      "text/plain": [
       "### AnesthesiaStudy object ###\n",
       "* Case data *\n",
       "ds_cases['anesthesia_start'] range: 2021-10-02 07:02:20 to 2021-10-30 21:59:55\n",
       "ds_cases (157 rows)\n",
       "ds_case_events (2837 rows)\n",
       "ds_case_meds (1325 rows)\n",
       "\n",
       "* Activity data *\n",
       "ds_activity: \"medication\" (1325 entries), \"activity A\" (126 entries), \"activity B\" (58 entries)"
      ]
     },
     "execution_count": 4,
     "metadata": {},
     "output_type": "execute_result"
    }
   ],
   "source": [
    "STUDY_CONFIG = {\n",
    "    'CASE_LIMITS': {\n",
    "        'ANESTHESIA_START_RANGE': ('2021-10-01', '2021-10-31')\n",
    "    },\n",
    "    'ACTIVITIES': {\n",
    "        'MEDICATION_ACTIVITY_OFFSET_BEFORE': pd.to_timedelta(2, unit='minute'),\n",
    "        'MEDICATION_ACTIVITY_OFFSET_AFTER': pd.to_timedelta(3, unit='minute'),\n",
    "        'EVENT_ACTIVITY_DEFINITIONS': [\n",
    "            {\n",
    "                \"activity_label\": \"activity A\",\n",
    "                \"start_event\": \"8e329bd8e26dcce3346b9717043bd7dbb897ebefe9efc\",\n",
    "                \"end_event\": \"5ec0619e404ddedfc928bf84bab8d85b151\"\n",
    "            },\n",
    "            {\n",
    "                \"activity_label\": \"activity B\",\n",
    "                \"start_event\": \"7c68a0232e\",\n",
    "                \"end_event\": \"17c59b70155f163ff22987a948c712d53d60e910e42d2b8011c96dba52c4\",\n",
    "                \n",
    "                # optional bounds to truncate the maximium duration of this activity\n",
    "                # in comparison to the raw distribution\n",
    "                # for example, this will limit the duration to twice the 95%ile duration\n",
    "                \"max_duration_quantile\": 0.95,\n",
    "                \"max_duration_factor\": 2\n",
    "            }\n",
    "        ]\n",
    "    }\n",
    "}\n",
    "\n",
    "study.process_study_config(STUDY_CONFIG)\n",
    "study"
   ]
  },
  {
   "cell_type": "markdown",
   "metadata": {},
   "source": [
    "### Concurrent activity and visualization\n",
    "AnesthesiaStudy objects also provide methods for unduplicating the anesthesia activity contained in the various DataSet objects. By default, these unduplicate at the level of a case_id, meaning they unduplicate the data such that the maximum activity per case id at one time is one. Effectively, each patient is reduced to at most one activity at each moment in time.\n",
    "\n",
    "The AnesthesiaStudy.unduplicate_concurrency() method exposes this functionality most simply. Under the hood, it first unduplicates and then determines concurrency (total unduplicated activity) for each moment in time. The strata used for unduplication can be overwritten by providing a different collection to strata (default strata=['case_id']), and the resolution of the concurrent activity can be set by passing a parseable string to resolution for creating a TimeDelta object (default resolution='1min')."
   ]
  },
  {
   "cell_type": "code",
   "execution_count": 5,
   "metadata": {},
   "outputs": [
    {
     "data": {
      "text/html": [
       "<div>\n",
       "<style scoped>\n",
       "    .dataframe tbody tr th:only-of-type {\n",
       "        vertical-align: middle;\n",
       "    }\n",
       "\n",
       "    .dataframe tbody tr th {\n",
       "        vertical-align: top;\n",
       "    }\n",
       "\n",
       "    .dataframe thead th {\n",
       "        text-align: right;\n",
       "    }\n",
       "</style>\n",
       "<table border=\"1\" class=\"dataframe\">\n",
       "  <thead>\n",
       "    <tr style=\"text-align: right;\">\n",
       "      <th></th>\n",
       "      <th>concurrent_activity_count</th>\n",
       "    </tr>\n",
       "  </thead>\n",
       "  <tbody>\n",
       "    <tr>\n",
       "      <th>2021-10-02 07:02:00</th>\n",
       "      <td>1.0</td>\n",
       "    </tr>\n",
       "    <tr>\n",
       "      <th>2021-10-02 07:03:00</th>\n",
       "      <td>1.0</td>\n",
       "    </tr>\n",
       "    <tr>\n",
       "      <th>2021-10-02 07:04:00</th>\n",
       "      <td>1.0</td>\n",
       "    </tr>\n",
       "    <tr>\n",
       "      <th>2021-10-02 07:05:00</th>\n",
       "      <td>1.0</td>\n",
       "    </tr>\n",
       "    <tr>\n",
       "      <th>2021-10-02 07:06:00</th>\n",
       "      <td>1.0</td>\n",
       "    </tr>\n",
       "    <tr>\n",
       "      <th>...</th>\n",
       "      <td>...</td>\n",
       "    </tr>\n",
       "    <tr>\n",
       "      <th>2021-11-01 01:57:00</th>\n",
       "      <td>1.0</td>\n",
       "    </tr>\n",
       "    <tr>\n",
       "      <th>2021-11-01 01:58:00</th>\n",
       "      <td>1.0</td>\n",
       "    </tr>\n",
       "    <tr>\n",
       "      <th>2021-11-01 01:59:00</th>\n",
       "      <td>1.0</td>\n",
       "    </tr>\n",
       "    <tr>\n",
       "      <th>2021-11-01 02:00:00</th>\n",
       "      <td>1.0</td>\n",
       "    </tr>\n",
       "    <tr>\n",
       "      <th>2021-11-01 02:01:00</th>\n",
       "      <td>1.0</td>\n",
       "    </tr>\n",
       "  </tbody>\n",
       "</table>\n",
       "<p>42900 rows × 1 columns</p>\n",
       "</div>"
      ],
      "text/plain": [
       "                     concurrent_activity_count\n",
       "2021-10-02 07:02:00                        1.0\n",
       "2021-10-02 07:03:00                        1.0\n",
       "2021-10-02 07:04:00                        1.0\n",
       "2021-10-02 07:05:00                        1.0\n",
       "2021-10-02 07:06:00                        1.0\n",
       "...                                        ...\n",
       "2021-11-01 01:57:00                        1.0\n",
       "2021-11-01 01:58:00                        1.0\n",
       "2021-11-01 01:59:00                        1.0\n",
       "2021-11-01 02:00:00                        1.0\n",
       "2021-11-01 02:01:00                        1.0\n",
       "\n",
       "[42900 rows x 1 columns]"
      ]
     },
     "execution_count": 5,
     "metadata": {},
     "output_type": "execute_result"
    }
   ],
   "source": [
    "# resolution can be any valid time and unit, such as '15min', 'T', 'M', etc.\n",
    "cc_ts = study.unduplicate_concurrency(strata=['case_id'], resolution='15min')\n",
    "cc_ts = cc_ts.reindex(\n",
    "    pd.date_range(\n",
    "        start=cc_ts.index.min(),\n",
    "        end=cc_ts.index.max() + pd.to_timedelta(1, unit='D') - pd.to_timedelta(1, unit='T'),\n",
    "        freq='T'),\n",
    "    method='ffill'\n",
    ")\n",
    "cc_ts"
   ]
  },
  {
   "cell_type": "markdown",
   "metadata": {},
   "source": [
    "### Weekly concurrency\n",
    "The concurrency time series can be fed into a concurrent_weekly_activity() helper function to aggregate things by day of the week."
   ]
  },
  {
   "cell_type": "code",
   "execution_count": 6,
   "metadata": {},
   "outputs": [
    {
     "data": {
      "text/html": [
       "<div>\n",
       "<style scoped>\n",
       "    .dataframe tbody tr th:only-of-type {\n",
       "        vertical-align: middle;\n",
       "    }\n",
       "\n",
       "    .dataframe tbody tr th {\n",
       "        vertical-align: top;\n",
       "    }\n",
       "\n",
       "    .dataframe thead th {\n",
       "        text-align: right;\n",
       "    }\n",
       "</style>\n",
       "<table border=\"1\" class=\"dataframe\">\n",
       "  <thead>\n",
       "    <tr style=\"text-align: right;\">\n",
       "      <th>day_name</th>\n",
       "      <th>Sunday</th>\n",
       "      <th>Monday</th>\n",
       "      <th>Tuesday</th>\n",
       "      <th>Wednesday</th>\n",
       "      <th>Thursday</th>\n",
       "      <th>Friday</th>\n",
       "      <th>Saturday</th>\n",
       "    </tr>\n",
       "    <tr>\n",
       "      <th>minute_of_day</th>\n",
       "      <th></th>\n",
       "      <th></th>\n",
       "      <th></th>\n",
       "      <th></th>\n",
       "      <th></th>\n",
       "      <th></th>\n",
       "      <th></th>\n",
       "    </tr>\n",
       "  </thead>\n",
       "  <tbody>\n",
       "    <tr>\n",
       "      <th>0</th>\n",
       "      <td>1.2</td>\n",
       "      <td>1.0</td>\n",
       "      <td>0.5</td>\n",
       "      <td>0.50</td>\n",
       "      <td>0.25</td>\n",
       "      <td>0.75</td>\n",
       "      <td>0.5</td>\n",
       "    </tr>\n",
       "    <tr>\n",
       "      <th>1</th>\n",
       "      <td>1.2</td>\n",
       "      <td>1.0</td>\n",
       "      <td>0.5</td>\n",
       "      <td>0.50</td>\n",
       "      <td>0.25</td>\n",
       "      <td>0.75</td>\n",
       "      <td>0.5</td>\n",
       "    </tr>\n",
       "    <tr>\n",
       "      <th>2</th>\n",
       "      <td>1.2</td>\n",
       "      <td>0.8</td>\n",
       "      <td>0.5</td>\n",
       "      <td>0.75</td>\n",
       "      <td>0.25</td>\n",
       "      <td>0.75</td>\n",
       "      <td>0.5</td>\n",
       "    </tr>\n",
       "    <tr>\n",
       "      <th>3</th>\n",
       "      <td>1.2</td>\n",
       "      <td>0.8</td>\n",
       "      <td>0.5</td>\n",
       "      <td>0.75</td>\n",
       "      <td>0.25</td>\n",
       "      <td>0.75</td>\n",
       "      <td>0.5</td>\n",
       "    </tr>\n",
       "    <tr>\n",
       "      <th>4</th>\n",
       "      <td>1.2</td>\n",
       "      <td>0.8</td>\n",
       "      <td>0.5</td>\n",
       "      <td>0.75</td>\n",
       "      <td>0.25</td>\n",
       "      <td>0.75</td>\n",
       "      <td>0.5</td>\n",
       "    </tr>\n",
       "    <tr>\n",
       "      <th>...</th>\n",
       "      <td>...</td>\n",
       "      <td>...</td>\n",
       "      <td>...</td>\n",
       "      <td>...</td>\n",
       "      <td>...</td>\n",
       "      <td>...</td>\n",
       "      <td>...</td>\n",
       "    </tr>\n",
       "    <tr>\n",
       "      <th>1435</th>\n",
       "      <td>1.0</td>\n",
       "      <td>0.5</td>\n",
       "      <td>0.5</td>\n",
       "      <td>0.25</td>\n",
       "      <td>0.75</td>\n",
       "      <td>0.50</td>\n",
       "      <td>1.2</td>\n",
       "    </tr>\n",
       "    <tr>\n",
       "      <th>1436</th>\n",
       "      <td>1.0</td>\n",
       "      <td>0.5</td>\n",
       "      <td>0.5</td>\n",
       "      <td>0.25</td>\n",
       "      <td>0.75</td>\n",
       "      <td>0.50</td>\n",
       "      <td>1.2</td>\n",
       "    </tr>\n",
       "    <tr>\n",
       "      <th>1437</th>\n",
       "      <td>1.0</td>\n",
       "      <td>0.5</td>\n",
       "      <td>0.5</td>\n",
       "      <td>0.25</td>\n",
       "      <td>0.75</td>\n",
       "      <td>0.50</td>\n",
       "      <td>1.2</td>\n",
       "    </tr>\n",
       "    <tr>\n",
       "      <th>1438</th>\n",
       "      <td>1.0</td>\n",
       "      <td>0.5</td>\n",
       "      <td>0.5</td>\n",
       "      <td>0.25</td>\n",
       "      <td>0.75</td>\n",
       "      <td>0.50</td>\n",
       "      <td>1.2</td>\n",
       "    </tr>\n",
       "    <tr>\n",
       "      <th>1439</th>\n",
       "      <td>1.0</td>\n",
       "      <td>0.5</td>\n",
       "      <td>0.5</td>\n",
       "      <td>0.25</td>\n",
       "      <td>0.75</td>\n",
       "      <td>0.50</td>\n",
       "      <td>1.2</td>\n",
       "    </tr>\n",
       "  </tbody>\n",
       "</table>\n",
       "<p>1440 rows × 7 columns</p>\n",
       "</div>"
      ],
      "text/plain": [
       "day_name       Sunday  Monday  Tuesday  Wednesday  Thursday  Friday  Saturday\n",
       "minute_of_day                                                                \n",
       "0                 1.2     1.0      0.5       0.50      0.25    0.75       0.5\n",
       "1                 1.2     1.0      0.5       0.50      0.25    0.75       0.5\n",
       "2                 1.2     0.8      0.5       0.75      0.25    0.75       0.5\n",
       "3                 1.2     0.8      0.5       0.75      0.25    0.75       0.5\n",
       "4                 1.2     0.8      0.5       0.75      0.25    0.75       0.5\n",
       "...               ...     ...      ...        ...       ...     ...       ...\n",
       "1435              1.0     0.5      0.5       0.25      0.75    0.50       1.2\n",
       "1436              1.0     0.5      0.5       0.25      0.75    0.50       1.2\n",
       "1437              1.0     0.5      0.5       0.25      0.75    0.50       1.2\n",
       "1438              1.0     0.5      0.5       0.25      0.75    0.50       1.2\n",
       "1439              1.0     0.5      0.5       0.25      0.75    0.50       1.2\n",
       "\n",
       "[1440 rows x 7 columns]"
      ]
     },
     "execution_count": 6,
     "metadata": {},
     "output_type": "execute_result"
    }
   ],
   "source": [
    "cc_activity_wa = pytiva.activity.utils.concurrent_weekly_activity(cc_ts)\n",
    "cc_activity_wa"
   ]
  },
  {
   "cell_type": "markdown",
   "metadata": {},
   "source": [
    "### Visualization\n",
    "Take advantage of matplotlib and seaborn library functionality."
   ]
  },
  {
   "cell_type": "code",
   "execution_count": 7,
   "metadata": {},
   "outputs": [
    {
     "data": {
      "image/png": "[encoded data removed]",
      "text/plain": [
       "<Figure size 640x480 with 2 Axes>"
      ]
     },
     "metadata": {},
     "output_type": "display_data"
    }
   ],
   "source": [
    "y_tick_labels = []\n",
    "for h in range(0, 24):\n",
    "    y_tick_labels.append(pd.to_datetime(f'{h}:00').strftime('%H:%M'))\n",
    "    y_tick_labels.extend([None for x in range(0,59)])\n",
    "\n",
    "graph = sn.heatmap(\n",
    "    cc_activity_wa,\n",
    "    yticklabels=y_tick_labels,\n",
    "    vmin=0,\n",
    "    vmax=1.0,\n",
    "    cbar_kws={\n",
    "        'label': 'Concurrent activity',\n",
    "        'ticks': [0.0, 0.25, 0.5, 0.75, 1.0]\n",
    "    })\n",
    "plt.ylabel('Hour of day')\n",
    "plt.xlabel('Day of week')\n",
    "sn.set(rc={'figure.figsize':(11.7,8.27)})\n",
    "plt.show()"
   ]
  }
 ],
 "metadata": {
  "colab": {
   "collapsed_sections": [],
   "provenance": []
  },
  "kernelspec": {
   "display_name": "pytiva",
   "language": "python",
   "name": "pytiva"
  },
  "language_info": {
   "codemirror_mode": {
    "name": "ipython",
    "version": 3
   },
   "file_extension": ".py",
   "mimetype": "text/x-python",
   "name": "python",
   "nbconvert_exporter": "python",
   "pygments_lexer": "ipython3",
   "version": "3.10.4"
  }
 },
 "nbformat": 4,
 "nbformat_minor": 1
}
